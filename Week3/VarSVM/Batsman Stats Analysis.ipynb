{
 "cells": [
  {
   "cell_type": "code",
   "execution_count": 2,
   "id": "4b1f2a3a",
   "metadata": {},
   "outputs": [],
   "source": [
    "import numpy as np\n",
    "import matplotlib.pyplot as plt\n",
    "import pandas as pd\n",
    "from sklearn import preprocessing\n",
    "from VarSVM import noneg_driftsvm"
   ]
  },
  {
   "cell_type": "code",
   "execution_count": 3,
   "id": "55df194c",
   "metadata": {},
   "outputs": [
    {
     "data": {
      "text/html": [
       "<div>\n",
       "<style scoped>\n",
       "    .dataframe tbody tr th:only-of-type {\n",
       "        vertical-align: middle;\n",
       "    }\n",
       "\n",
       "    .dataframe tbody tr th {\n",
       "        vertical-align: top;\n",
       "    }\n",
       "\n",
       "    .dataframe thead th {\n",
       "        text-align: right;\n",
       "    }\n",
       "</style>\n",
       "<table border=\"1\" class=\"dataframe\">\n",
       "  <thead>\n",
       "    <tr style=\"text-align: right;\">\n",
       "      <th></th>\n",
       "      <th>Batting Innings</th>\n",
       "      <th>Batting Position</th>\n",
       "      <th>Runs Scored</th>\n",
       "      <th>Balls Faced</th>\n",
       "      <th>Batting Strikerate</th>\n",
       "      <th>Out/NotOut</th>\n",
       "      <th>4s</th>\n",
       "      <th>6s</th>\n",
       "      <th>50s</th>\n",
       "      <th>100s</th>\n",
       "      <th>...</th>\n",
       "      <th>5 wicket hauls</th>\n",
       "      <th>Wickets in Powerplay</th>\n",
       "      <th>Wickets in Middle Overs</th>\n",
       "      <th>Wickets in Death Overs</th>\n",
       "      <th>Economy in Powerplay</th>\n",
       "      <th>Economy in Middle Overs</th>\n",
       "      <th>Economy in Death Overs</th>\n",
       "      <th>Catches or Runouts as Fielder</th>\n",
       "      <th>Match Result</th>\n",
       "      <th>Man of the match</th>\n",
       "    </tr>\n",
       "  </thead>\n",
       "  <tbody>\n",
       "    <tr>\n",
       "      <th>0</th>\n",
       "      <td>1.0</td>\n",
       "      <td>0.0</td>\n",
       "      <td>10.0</td>\n",
       "      <td>12.0</td>\n",
       "      <td>83.33</td>\n",
       "      <td>1.0</td>\n",
       "      <td>2.0</td>\n",
       "      <td>0.0</td>\n",
       "      <td>0.0</td>\n",
       "      <td>0.0</td>\n",
       "      <td>...</td>\n",
       "      <td>0.0</td>\n",
       "      <td>0.0</td>\n",
       "      <td>0.0</td>\n",
       "      <td>2.0</td>\n",
       "      <td>-1.0</td>\n",
       "      <td>-1.0</td>\n",
       "      <td>5.52</td>\n",
       "      <td>0.0</td>\n",
       "      <td>1.0</td>\n",
       "      <td>0.0</td>\n",
       "    </tr>\n",
       "    <tr>\n",
       "      <th>1</th>\n",
       "      <td>2.0</td>\n",
       "      <td>8.0</td>\n",
       "      <td>14.0</td>\n",
       "      <td>30.0</td>\n",
       "      <td>46.67</td>\n",
       "      <td>1.0</td>\n",
       "      <td>1.0</td>\n",
       "      <td>0.0</td>\n",
       "      <td>0.0</td>\n",
       "      <td>0.0</td>\n",
       "      <td>...</td>\n",
       "      <td>0.0</td>\n",
       "      <td>0.0</td>\n",
       "      <td>0.0</td>\n",
       "      <td>0.0</td>\n",
       "      <td>-1.0</td>\n",
       "      <td>-1.0</td>\n",
       "      <td>-1.00</td>\n",
       "      <td>1.0</td>\n",
       "      <td>0.0</td>\n",
       "      <td>0.0</td>\n",
       "    </tr>\n",
       "    <tr>\n",
       "      <th>2</th>\n",
       "      <td>1.0</td>\n",
       "      <td>0.0</td>\n",
       "      <td>12.0</td>\n",
       "      <td>19.0</td>\n",
       "      <td>63.16</td>\n",
       "      <td>1.0</td>\n",
       "      <td>1.0</td>\n",
       "      <td>0.0</td>\n",
       "      <td>0.0</td>\n",
       "      <td>0.0</td>\n",
       "      <td>...</td>\n",
       "      <td>0.0</td>\n",
       "      <td>0.0</td>\n",
       "      <td>0.0</td>\n",
       "      <td>0.0</td>\n",
       "      <td>-1.0</td>\n",
       "      <td>-1.0</td>\n",
       "      <td>-1.00</td>\n",
       "      <td>0.0</td>\n",
       "      <td>0.0</td>\n",
       "      <td>0.0</td>\n",
       "    </tr>\n",
       "    <tr>\n",
       "      <th>3</th>\n",
       "      <td>1.0</td>\n",
       "      <td>0.0</td>\n",
       "      <td>4.0</td>\n",
       "      <td>2.0</td>\n",
       "      <td>200.00</td>\n",
       "      <td>1.0</td>\n",
       "      <td>1.0</td>\n",
       "      <td>0.0</td>\n",
       "      <td>0.0</td>\n",
       "      <td>0.0</td>\n",
       "      <td>...</td>\n",
       "      <td>0.0</td>\n",
       "      <td>0.0</td>\n",
       "      <td>0.0</td>\n",
       "      <td>0.0</td>\n",
       "      <td>-1.0</td>\n",
       "      <td>-1.0</td>\n",
       "      <td>7.00</td>\n",
       "      <td>0.0</td>\n",
       "      <td>0.0</td>\n",
       "      <td>0.0</td>\n",
       "    </tr>\n",
       "    <tr>\n",
       "      <th>4</th>\n",
       "      <td>2.0</td>\n",
       "      <td>2.0</td>\n",
       "      <td>51.0</td>\n",
       "      <td>39.0</td>\n",
       "      <td>130.77</td>\n",
       "      <td>1.0</td>\n",
       "      <td>4.0</td>\n",
       "      <td>2.0</td>\n",
       "      <td>1.0</td>\n",
       "      <td>0.0</td>\n",
       "      <td>...</td>\n",
       "      <td>0.0</td>\n",
       "      <td>0.0</td>\n",
       "      <td>0.0</td>\n",
       "      <td>0.0</td>\n",
       "      <td>-1.0</td>\n",
       "      <td>-1.0</td>\n",
       "      <td>14.00</td>\n",
       "      <td>0.0</td>\n",
       "      <td>0.0</td>\n",
       "      <td>0.0</td>\n",
       "    </tr>\n",
       "  </tbody>\n",
       "</table>\n",
       "<p>5 rows × 33 columns</p>\n",
       "</div>"
      ],
      "text/plain": [
       "   Batting Innings  Batting Position  Runs Scored  Balls Faced  \\\n",
       "0              1.0               0.0         10.0         12.0   \n",
       "1              2.0               8.0         14.0         30.0   \n",
       "2              1.0               0.0         12.0         19.0   \n",
       "3              1.0               0.0          4.0          2.0   \n",
       "4              2.0               2.0         51.0         39.0   \n",
       "\n",
       "   Batting Strikerate  Out/NotOut   4s   6s  50s  100s  ...  5 wicket hauls  \\\n",
       "0               83.33         1.0  2.0  0.0  0.0   0.0  ...             0.0   \n",
       "1               46.67         1.0  1.0  0.0  0.0   0.0  ...             0.0   \n",
       "2               63.16         1.0  1.0  0.0  0.0   0.0  ...             0.0   \n",
       "3              200.00         1.0  1.0  0.0  0.0   0.0  ...             0.0   \n",
       "4              130.77         1.0  4.0  2.0  1.0   0.0  ...             0.0   \n",
       "\n",
       "   Wickets in Powerplay  Wickets in Middle Overs  Wickets in Death Overs  \\\n",
       "0                   0.0                      0.0                     2.0   \n",
       "1                   0.0                      0.0                     0.0   \n",
       "2                   0.0                      0.0                     0.0   \n",
       "3                   0.0                      0.0                     0.0   \n",
       "4                   0.0                      0.0                     0.0   \n",
       "\n",
       "   Economy in Powerplay  Economy in Middle Overs  Economy in Death Overs  \\\n",
       "0                  -1.0                     -1.0                    5.52   \n",
       "1                  -1.0                     -1.0                   -1.00   \n",
       "2                  -1.0                     -1.0                   -1.00   \n",
       "3                  -1.0                     -1.0                    7.00   \n",
       "4                  -1.0                     -1.0                   14.00   \n",
       "\n",
       "   Catches or Runouts as Fielder  Match Result  Man of the match  \n",
       "0                            0.0           1.0               0.0  \n",
       "1                            1.0           0.0               0.0  \n",
       "2                            0.0           0.0               0.0  \n",
       "3                            0.0           0.0               0.0  \n",
       "4                            0.0           0.0               0.0  \n",
       "\n",
       "[5 rows x 33 columns]"
      ]
     },
     "execution_count": 3,
     "metadata": {},
     "output_type": "execute_result"
    }
   ],
   "source": [
    "f_data=pd.read_csv('dataset.csv')\n",
    "f_data.head()"
   ]
  },
  {
   "cell_type": "code",
   "execution_count": 4,
   "id": "23e946d9",
   "metadata": {},
   "outputs": [
    {
     "data": {
      "text/plain": [
       "11.017553990068137"
      ]
     },
     "execution_count": 4,
     "metadata": {},
     "output_type": "execute_result"
    }
   ],
   "source": [
    "f_data['Balls Bowled'].mean()"
   ]
  },
  {
   "cell_type": "code",
   "execution_count": 5,
   "id": "7a6a1790",
   "metadata": {},
   "outputs": [
    {
     "data": {
      "text/plain": [
       "Index(['Batting Innings', 'Batting Position', 'Runs Scored', 'Balls Faced',\n",
       "       'Batting Strikerate', 'Out/NotOut', '4s', '6s', '50s', '100s',\n",
       "       'Runs in Powerplay', 'Runs in Middle Overs', 'Runs in Death Overs',\n",
       "       'Strikerate in first 20 balls', 'Strikerate in 20 to 30 balls',\n",
       "       'Strikerate after 30 balls', 'Bowling Innings', 'Runs Given',\n",
       "       'Balls Bowled', 'Wickets Taken', 'Economy Rate', 'Bowling Strikerate',\n",
       "       '3 wicket hauls', '5 wicket hauls', 'Wickets in Powerplay',\n",
       "       'Wickets in Middle Overs', 'Wickets in Death Overs',\n",
       "       'Economy in Powerplay', 'Economy in Middle Overs',\n",
       "       'Economy in Death Overs', 'Catches or Runouts as Fielder',\n",
       "       'Match Result', 'Man of the match'],\n",
       "      dtype='object')"
      ]
     },
     "execution_count": 5,
     "metadata": {},
     "output_type": "execute_result"
    }
   ],
   "source": [
    "f_data.columns\n"
   ]
  },
  {
   "cell_type": "code",
   "execution_count": 6,
   "id": "265b4170",
   "metadata": {},
   "outputs": [],
   "source": [
    "t_data=f_data.loc[(f_data['Balls Bowled']<6) & (f_data['Balls Faced']>10)]"
   ]
  },
  {
   "cell_type": "code",
   "execution_count": 77,
   "id": "eb556e45",
   "metadata": {},
   "outputs": [],
   "source": [
    "data=t_data[['Runs Scored', 'Batting Strikerate', '4s', '6s','Runs in Powerplay', 'Runs in Middle Overs', 'Runs in Death Overs',\n",
    "       'Strikerate in first 20 balls', 'Strikerate in 20 to 30 balls',\n",
    "       'Strikerate after 30 balls','Match Result', 'Man of the match']]"
   ]
  },
  {
   "cell_type": "code",
   "execution_count": 78,
   "id": "93c7e9d9",
   "metadata": {},
   "outputs": [
    {
     "data": {
      "text/html": [
       "<div>\n",
       "<style scoped>\n",
       "    .dataframe tbody tr th:only-of-type {\n",
       "        vertical-align: middle;\n",
       "    }\n",
       "\n",
       "    .dataframe tbody tr th {\n",
       "        vertical-align: top;\n",
       "    }\n",
       "\n",
       "    .dataframe thead th {\n",
       "        text-align: right;\n",
       "    }\n",
       "</style>\n",
       "<table border=\"1\" class=\"dataframe\">\n",
       "  <thead>\n",
       "    <tr style=\"text-align: right;\">\n",
       "      <th></th>\n",
       "      <th>Runs Scored</th>\n",
       "      <th>Batting Strikerate</th>\n",
       "      <th>4s</th>\n",
       "      <th>6s</th>\n",
       "      <th>Runs in Powerplay</th>\n",
       "      <th>Runs in Middle Overs</th>\n",
       "      <th>Runs in Death Overs</th>\n",
       "      <th>Strikerate in first 20 balls</th>\n",
       "      <th>Strikerate in 20 to 30 balls</th>\n",
       "      <th>Strikerate after 30 balls</th>\n",
       "      <th>Match Result</th>\n",
       "      <th>Man of the match</th>\n",
       "    </tr>\n",
       "  </thead>\n",
       "  <tbody>\n",
       "    <tr>\n",
       "      <th>1</th>\n",
       "      <td>14.0</td>\n",
       "      <td>46.67</td>\n",
       "      <td>1.0</td>\n",
       "      <td>0.0</td>\n",
       "      <td>4.0</td>\n",
       "      <td>10.0</td>\n",
       "      <td>0.0</td>\n",
       "      <td>23.33</td>\n",
       "      <td>70.0</td>\n",
       "      <td>-1.00</td>\n",
       "      <td>0.0</td>\n",
       "      <td>0.0</td>\n",
       "    </tr>\n",
       "    <tr>\n",
       "      <th>2</th>\n",
       "      <td>12.0</td>\n",
       "      <td>63.16</td>\n",
       "      <td>1.0</td>\n",
       "      <td>0.0</td>\n",
       "      <td>9.0</td>\n",
       "      <td>3.0</td>\n",
       "      <td>0.0</td>\n",
       "      <td>60.00</td>\n",
       "      <td>-1.0</td>\n",
       "      <td>-1.00</td>\n",
       "      <td>0.0</td>\n",
       "      <td>0.0</td>\n",
       "    </tr>\n",
       "    <tr>\n",
       "      <th>9</th>\n",
       "      <td>15.0</td>\n",
       "      <td>75.00</td>\n",
       "      <td>2.0</td>\n",
       "      <td>0.0</td>\n",
       "      <td>1.0</td>\n",
       "      <td>14.0</td>\n",
       "      <td>0.0</td>\n",
       "      <td>75.00</td>\n",
       "      <td>-1.0</td>\n",
       "      <td>-1.00</td>\n",
       "      <td>0.0</td>\n",
       "      <td>0.0</td>\n",
       "    </tr>\n",
       "    <tr>\n",
       "      <th>12</th>\n",
       "      <td>86.0</td>\n",
       "      <td>162.26</td>\n",
       "      <td>6.0</td>\n",
       "      <td>6.0</td>\n",
       "      <td>20.0</td>\n",
       "      <td>25.0</td>\n",
       "      <td>41.0</td>\n",
       "      <td>43.40</td>\n",
       "      <td>30.3</td>\n",
       "      <td>230.43</td>\n",
       "      <td>1.0</td>\n",
       "      <td>0.0</td>\n",
       "    </tr>\n",
       "    <tr>\n",
       "      <th>20</th>\n",
       "      <td>44.0</td>\n",
       "      <td>97.78</td>\n",
       "      <td>1.0</td>\n",
       "      <td>2.0</td>\n",
       "      <td>16.0</td>\n",
       "      <td>28.0</td>\n",
       "      <td>0.0</td>\n",
       "      <td>53.33</td>\n",
       "      <td>24.0</td>\n",
       "      <td>93.33</td>\n",
       "      <td>0.0</td>\n",
       "      <td>0.0</td>\n",
       "    </tr>\n",
       "  </tbody>\n",
       "</table>\n",
       "</div>"
      ],
      "text/plain": [
       "    Runs Scored  Batting Strikerate   4s   6s  Runs in Powerplay  \\\n",
       "1          14.0               46.67  1.0  0.0                4.0   \n",
       "2          12.0               63.16  1.0  0.0                9.0   \n",
       "9          15.0               75.00  2.0  0.0                1.0   \n",
       "12         86.0              162.26  6.0  6.0               20.0   \n",
       "20         44.0               97.78  1.0  2.0               16.0   \n",
       "\n",
       "    Runs in Middle Overs  Runs in Death Overs  Strikerate in first 20 balls  \\\n",
       "1                   10.0                  0.0                         23.33   \n",
       "2                    3.0                  0.0                         60.00   \n",
       "9                   14.0                  0.0                         75.00   \n",
       "12                  25.0                 41.0                         43.40   \n",
       "20                  28.0                  0.0                         53.33   \n",
       "\n",
       "    Strikerate in 20 to 30 balls  Strikerate after 30 balls  Match Result  \\\n",
       "1                           70.0                      -1.00           0.0   \n",
       "2                           -1.0                      -1.00           0.0   \n",
       "9                           -1.0                      -1.00           0.0   \n",
       "12                          30.3                     230.43           1.0   \n",
       "20                          24.0                      93.33           0.0   \n",
       "\n",
       "    Man of the match  \n",
       "1                0.0  \n",
       "2                0.0  \n",
       "9                0.0  \n",
       "12               0.0  \n",
       "20               0.0  "
      ]
     },
     "execution_count": 78,
     "metadata": {},
     "output_type": "execute_result"
    }
   ],
   "source": [
    "data.head()"
   ]
  },
  {
   "cell_type": "code",
   "execution_count": 79,
   "id": "717345d8",
   "metadata": {},
   "outputs": [
    {
     "name": "stderr",
     "output_type": "stream",
     "text": [
      "/usr/local/lib/python3.6/dist-packages/IPython/core/interactiveshell.py:3343: SettingWithCopyWarning: \n",
      "A value is trying to be set on a copy of a slice from a DataFrame\n",
      "\n",
      "See the caveats in the documentation: https://pandas.pydata.org/pandas-docs/stable/user_guide/indexing.html#returning-a-view-versus-a-copy\n",
      "  exec(code_obj, self.user_global_ns, self.user_ns)\n"
     ]
    }
   ],
   "source": [
    "for col in data.columns:\n",
    "    for i in data.index:\n",
    "        if data[col][i]<0:\n",
    "            data[col][i]=0;"
   ]
  },
  {
   "cell_type": "markdown",
   "id": "d136f588",
   "metadata": {},
   "source": [
    "- First we attempt to create a linear model where the X is a feature vector and the y is the man of the match. \n",
    "- We consider all features which when increases increases the chance of being a better player. \n",
    "- So now we learn a linear classification model where the weights are constrained to be non negative so that the weights kind of give the fraction of contribution towards deciding the player as a star performer. This is because we cant say a player was a star based on one statistic so we try to gauge which feature kind of contributes more\n",
    "- We first attempt to use a SVM rather than sigmoid based model. So we will centre the data btwn [-0.5,0.5]\n",
    "\n"
   ]
  },
  {
   "cell_type": "code",
   "execution_count": 80,
   "id": "a17fb247",
   "metadata": {},
   "outputs": [
    {
     "name": "stderr",
     "output_type": "stream",
     "text": [
      "/usr/local/lib/python3.6/dist-packages/ipykernel_launcher.py:5: SettingWithCopyWarning: \n",
      "A value is trying to be set on a copy of a slice from a DataFrame.\n",
      "Try using .loc[row_indexer,col_indexer] = value instead\n",
      "\n",
      "See the caveats in the documentation: https://pandas.pydata.org/pandas-docs/stable/user_guide/indexing.html#returning-a-view-versus-a-copy\n",
      "  \"\"\"\n"
     ]
    }
   ],
   "source": [
    "for col in data.columns:\n",
    "    \n",
    "    maxer=data[col].max()\n",
    "    miner=data[col].min()\n",
    "    data[col]=(data[col]-miner)/(maxer-miner)"
   ]
  },
  {
   "cell_type": "code",
   "execution_count": 81,
   "id": "abb67c0e",
   "metadata": {},
   "outputs": [
    {
     "name": "stderr",
     "output_type": "stream",
     "text": [
      "/usr/local/lib/python3.6/dist-packages/ipykernel_launcher.py:5: SettingWithCopyWarning: \n",
      "A value is trying to be set on a copy of a slice from a DataFrame.\n",
      "Try using .loc[row_indexer,col_indexer] = value instead\n",
      "\n",
      "See the caveats in the documentation: https://pandas.pydata.org/pandas-docs/stable/user_guide/indexing.html#returning-a-view-versus-a-copy\n",
      "  \"\"\"\n",
      "/usr/local/lib/python3.6/dist-packages/ipykernel_launcher.py:3: SettingWithCopyWarning: \n",
      "A value is trying to be set on a copy of a slice from a DataFrame.\n",
      "Try using .loc[row_indexer,col_indexer] = value instead\n",
      "\n",
      "See the caveats in the documentation: https://pandas.pydata.org/pandas-docs/stable/user_guide/indexing.html#returning-a-view-versus-a-copy\n",
      "  This is separate from the ipykernel package so we can avoid doing imports until\n"
     ]
    }
   ],
   "source": [
    "for col in data.columns:\n",
    "    if col=='Man of the match':\n",
    "        data[col]=data[col]*2-1\n",
    "        break\n",
    "    data[col]-=0.5"
   ]
  },
  {
   "cell_type": "code",
   "execution_count": 82,
   "id": "f977b434",
   "metadata": {},
   "outputs": [],
   "source": [
    "X_data=data.drop(['Man of the match'],axis=1).to_numpy()\n",
    "y_data=data['Man of the match'].to_numpy()"
   ]
  },
  {
   "cell_type": "code",
   "execution_count": 83,
   "id": "8ecdfd5a",
   "metadata": {},
   "outputs": [],
   "source": [
    "func=np.ascontiguousarray"
   ]
  },
  {
   "cell_type": "code",
   "execution_count": 84,
   "id": "f30877e9",
   "metadata": {},
   "outputs": [],
   "source": [
    "clf=noneg_driftsvm()\n",
    "clf.fit(X=func(X_data),y=func(y_data))\n",
    "y_pred=clf.predict(X=X_data)"
   ]
  },
  {
   "cell_type": "code",
   "execution_count": 86,
   "id": "55d986d9",
   "metadata": {},
   "outputs": [
    {
     "name": "stdout",
     "output_type": "stream",
     "text": [
      "[0.57847119 0.18011205 0.0692805  0.01158867 0.         0.01811325\n",
      " 0.01395115 0.         0.         0.00512772 0.12335548]\n"
     ]
    },
    {
     "data": {
      "image/png": "[encoded data removed]",
      "text/plain": [
       "<Figure size 720x720 with 1 Axes>"
      ]
     },
     "metadata": {},
     "output_type": "display_data"
    }
   ],
   "source": [
    "weights=clf.beta\n",
    "weights=weights/np.sum(weights)\n",
    "print(weights)\n",
    "df=pd.DataFrame({'fraction':weights},index=data.columns[:-1])\n",
    "plot=df.plot.pie(y='fraction',figsize=(10,10))"
   ]
  },
  {
   "cell_type": "code",
   "execution_count": null,
   "id": "1c544561",
   "metadata": {},
   "outputs": [],
   "source": []
  }
 ],
 "metadata": {
  "kernelspec": {
   "display_name": "Python 3",
   "language": "python",
   "name": "python3"
  },
  "language_info": {
   "codemirror_mode": {
    "name": "ipython",
    "version": 3
   },
   "file_extension": ".py",
   "mimetype": "text/x-python",
   "name": "python",
   "nbconvert_exporter": "python",
   "pygments_lexer": "ipython3",
   "version": "3.6.9"
  }
 },
 "nbformat": 4,
 "nbformat_minor": 5
}

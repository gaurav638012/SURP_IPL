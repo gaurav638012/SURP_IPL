{
 "cells": [
  {
   "cell_type": "code",
   "execution_count": 40,
   "id": "a9bb4376",
   "metadata": {},
   "outputs": [],
   "source": [
    "import pandas as pd\n",
    "import numpy as np\n",
    "\n",
    "ratings = {}\n",
    "init = 1000\n",
    "diff = 400\n",
    "chances = 10\n",
    "kfac = 30"
   ]
  },
  {
   "cell_type": "code",
   "execution_count": 41,
   "id": "aa05470a",
   "metadata": {},
   "outputs": [],
   "source": [
    "file = open(\"IPL Matches 2008-2020.csv\", 'r')\n",
    "\n",
    "for line in file:\n",
    "    l = line.split(\",\")\n",
    "    if l[0] == 'id': continue\n",
    "        \n",
    "    team1 = l[-11]\n",
    "    team2 = l[-10]\n",
    "    \n",
    "    if team1 not in ratings.keys(): ratings[team1] = init\n",
    "    if team2 not in ratings.keys(): ratings[team2] = init\n",
    "        \n",
    "    prob = 1/(1+pow(chances, (ratings[team2]-ratings[team1])/diff))\n",
    "    \n",
    "    if team1 == l[-7]: error = 1-prob\n",
    "    else: error = -prob\n",
    "    \n",
    "    ratings[team1] += kfac*error  \n",
    "    ratings[team2] -= kfac*error"
   ]
  },
  {
   "cell_type": "code",
   "execution_count": 42,
   "id": "3a3c5635",
   "metadata": {},
   "outputs": [
    {
     "name": "stdout",
     "output_type": "stream",
     "text": [
      "{'Royal Challengers Bangalore': 997.3518892260939, 'Kolkata Knight Riders': 1024.4411417742392, 'Kings XI Punjab': 976.0113021643876, 'Chennai Super Kings': 1045.2960344893997, 'Delhi Daredevils': 967.1238897298434, 'Rajasthan Royals': 1012.0748487903588, 'Mumbai Indians': 1152.8114808962825, 'Deccan Chargers': 926.4034523747956, 'Kochi Tuskers Kerala': 977.9275966518231, 'Pune Warriors': 857.8791295944401, 'Sunrisers Hyderabad': 1019.0404846712522, 'Rising Pune Supergiants': 970.4058699534986, 'Gujarat Lions': 948.801558713939, 'Rising Pune Supergiant': 1067.1945839677105, 'Delhi Capitals': 1057.2367370019338}\n"
     ]
    }
   ],
   "source": [
    "print(ratings)"
   ]
  },
  {
   "cell_type": "code",
   "execution_count": null,
   "id": "44e2079a",
   "metadata": {},
   "outputs": [],
   "source": []
  }
 ],
 "metadata": {
  "kernelspec": {
   "display_name": "Python 3",
   "language": "python",
   "name": "python3"
  },
  "language_info": {
   "codemirror_mode": {
    "name": "ipython",
    "version": 3
   },
   "file_extension": ".py",
   "mimetype": "text/x-python",
   "name": "python",
   "nbconvert_exporter": "python",
   "pygments_lexer": "ipython3",
   "version": "3.8.10"
  }
 },
 "nbformat": 4,
 "nbformat_minor": 5
}

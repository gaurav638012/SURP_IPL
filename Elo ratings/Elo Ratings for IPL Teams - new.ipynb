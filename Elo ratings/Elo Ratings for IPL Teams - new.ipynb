{
 "cells": [
  {
   "cell_type": "code",
   "execution_count": 1,
   "id": "c46e3d37",
   "metadata": {},
   "outputs": [],
   "source": [
    "import numpy as np\n",
    "import matplotlib.pyplot as plt\n",
    "import statistics as stats\n",
    "\n",
    "team_stats = np.zeros(shape=(14,14))\n",
    "teams = [\"Chennai Super Kings\", \"Kolkata Knight Riders\", \"Kings XI Punjab\", \"Sunrisers Hyderabad\",\n",
    "         \"Delhi Capitals\", \"Rajasthan Royals\", \"Mumbai Indians\", \"Royal Challengers Bangalore\",\n",
    "         \"Delhi Daredevils\", \"Deccan Chargers\", \"Kochi Tuskers Kerala\", \"Rising Pune Supergiants\",\n",
    "         \"Pune Warriors\", \"Gujarat Lions\"]\n",
    "win_percentages = {}"
   ]
  },
  {
   "cell_type": "code",
   "execution_count": 2,
   "id": "17868f3f",
   "metadata": {},
   "outputs": [],
   "source": [
    "file = open(\"IPL Matches 2008-2020.csv\", 'r')\n",
    "\n",
    "for line in file:\n",
    "    l = line.split(\",\")\n",
    "    if l[0] == 'id': continue\n",
    "        \n",
    "    team1 = l[-11]\n",
    "    team2 = l[-10]\n",
    "    \n",
    "    if team1 == \"Rising Pune Supergiant\": team1 += \"s\"\n",
    "    if team2 == \"Rising Pune Supergiant\": team2 += \"s\"\n",
    "    if l[-7] == \"Rising Pune Supergiant\": l[-7] += \"s\"\n",
    "    \n",
    "    ind1 = teams.index(team1)\n",
    "    ind2 = teams.index(team2)\n",
    "    \n",
    "    if team1 == l[-7]: team_stats[ind1][ind2] += 1\n",
    "    else: team_stats[ind2][ind1] += 1\n",
    "\n",
    "file.close()"
   ]
  },
  {
   "cell_type": "code",
   "execution_count": 3,
   "id": "ec7ded07",
   "metadata": {},
   "outputs": [
    {
     "name": "stdout",
     "output_type": "stream",
     "text": [
      "[[ 0. 14. 14. 10.  3. 14. 12. 16. 12.  6.  1.  0.  4.  0.]\n",
      " [ 8.  0. 18. 12.  1. 12.  6. 14. 13.  7.  0.  3.  4.  1.]\n",
      " [ 9.  9.  0.  5.  2.  9. 12. 14. 13.  7.  1.  2.  3.  2.]\n",
      " [ 4.  7. 11.  0.  3.  7.  8. 10.  8.  0.  0.  1.  2.  5.]\n",
      " [ 2.  3.  2.  3.  0.  4.  1.  4.  0.  0.  0.  0.  0.  0.]\n",
      " [ 9. 10. 12.  6.  0.  0. 11. 12. 11.  7.  1.  0.  4.  0.]\n",
      " [18. 21. 14.  8.  5. 11.  0. 17. 11.  6.  0.  2.  5.  2.]\n",
      " [ 9. 12. 12.  7.  0. 10. 10.  0. 14.  5.  2.  2.  5.  3.]\n",
      " [ 6.  8.  9.  4.  0.  7. 11.  7.  0.  7.  1.  2.  3.  3.]\n",
      " [ 4.  2.  3.  0.  0.  2.  4.  6.  4.  0.  1.  0.  3.  0.]\n",
      " [ 1.  2.  0.  0.  0.  1.  1.  0.  1.  0.  0.  0.  0.  0.]\n",
      " [ 0.  1.  2.  3.  0.  0.  4.  2.  2.  0.  0.  0.  0.  1.]\n",
      " [ 2.  1.  3.  0.  0.  1.  1.  0.  3.  1.  1.  0.  0.  0.]\n",
      " [ 0.  3.  2.  0.  0.  0.  2.  2.  1.  0.  0.  3.  0.  0.]]\n"
     ]
    }
   ],
   "source": [
    "print(team_stats)"
   ]
  },
  {
   "cell_type": "code",
   "execution_count": 4,
   "id": "dcbf7cd2",
   "metadata": {},
   "outputs": [
    {
     "name": "stdout",
     "output_type": "stream",
     "text": [
      "Chennai Super Kings:  59.55056179775281\n",
      "Mumbai Indians:  59.11330049261084\n",
      "Delhi Capitals:  57.57575757575758\n",
      "Sunrisers Hyderabad:  53.2258064516129\n",
      "Kolkata Knight Riders:  51.5625\n",
      "Rajasthan Royals:  51.5527950310559\n",
      "Rising Pune Supergiants:  50.0\n",
      "Royal Challengers Bangalore:  46.666666666666664\n",
      "Kings XI Punjab:  46.31578947368421\n",
      "Gujarat Lions:  43.333333333333336\n",
      "Kochi Tuskers Kerala:  42.857142857142854\n",
      "Delhi Daredevils:  42.2360248447205\n",
      "Deccan Chargers:  38.666666666666664\n",
      "Pune Warriors:  28.26086956521739\n"
     ]
    }
   ],
   "source": [
    "for ind, team in enumerate(teams): win_percentages[team] = 100*((np.sum(team_stats[ind, :]))/(np.sum(team_stats[ind, :]) + np.sum(team_stats[:, ind])))\n",
    "for t in sorted(win_percentages, key = win_percentages.get, reverse = True): print(t + \": \", win_percentages[t])"
   ]
  },
  {
   "cell_type": "code",
   "execution_count": 5,
   "id": "4c7a343e",
   "metadata": {},
   "outputs": [],
   "source": [
    "def elo_ratings(diff, chance, kfac):\n",
    "    ratings = {}\n",
    "    mse = []\n",
    "    for team in teams: ratings[team] = 50\n",
    "    \n",
    "    file = open(\"IPL Matches 2008-2020.csv\", 'r')\n",
    "\n",
    "    for line in file:\n",
    "        l = line.split(\",\")\n",
    "        if l[0] == 'id': continue\n",
    "\n",
    "        team1 = l[-11]\n",
    "        team2 = l[-10]\n",
    "        \n",
    "        if team1 == \"Rising Pune Supergiant\": team1 += \"s\"\n",
    "        if team2 == \"Rising Pune Supergiant\": team2 += \"s\"\n",
    "        if l[-7] == \"Rising Pune Supergiant\": l[-7] += \"s\"\n",
    "\n",
    "        prob = 1/(1+pow(chance, (ratings[team2]-ratings[team1])/diff))\n",
    "\n",
    "        if team1 == l[-7]: error = 1-prob\n",
    "        else: error = -prob\n",
    "\n",
    "        ratings[team1] += kfac*error\n",
    "        ratings[team2] -= kfac*error\n",
    "        \n",
    "        mse += [error**2]\n",
    "    \n",
    "    file.close()\n",
    "    \n",
    "    return [ratings, stats.mean(mse)]"
   ]
  },
  {
   "cell_type": "code",
   "execution_count": 6,
   "id": "de334aa9",
   "metadata": {},
   "outputs": [
    {
     "data": {
      "image/png": "[encoded data removed]",
      "text/plain": [
       "<Figure size 432x288 with 1 Axes>"
      ]
     },
     "metadata": {
      "needs_background": "light"
     },
     "output_type": "display_data"
    }
   ],
   "source": [
    "errors = np.zeros(shape=(7, 11))\n",
    "plt.figure(0)\n",
    "x = range(4, 25, 2)\n",
    "for kfac in range(1,8):\n",
    "    for chance in range(4,25,2):\n",
    "        errors[kfac-1, int((chance-4)/2)] = elo_ratings(350, chance, kfac)[1]\n",
    "    plt.plot(x, list(errors[kfac-1, :]))\n",
    "plt.legend(range(1,8))\n",
    "plt.xlim(4, 24)\n",
    "plt.show()"
   ]
  },
  {
   "cell_type": "code",
   "execution_count": 7,
   "id": "492773fa",
   "metadata": {},
   "outputs": [
    {
     "name": "stdout",
     "output_type": "stream",
     "text": [
      "Mumbai Indians: 152.96457271927667\n",
      "Chennai Super Kings: 124.06811494990313\n",
      "Delhi Capitals: 79.85985933250291\n",
      "Kolkata Knight Riders: 78.8519408681951\n",
      "Sunrisers Hyderabad: 77.05666299739187\n",
      "Rising Pune Supergiants: 57.90781728975783\n",
      "Rajasthan Royals: 56.8782567150419\n",
      "Kochi Tuskers Kerala: 40.98611184765481\n",
      "Gujarat Lions: 30.26559288856383\n",
      "Royal Challengers Bangalore: 25.771257740716713\n",
      "Kings XI Punjab: 19.051255097666306\n",
      "Deccan Chargers: -3.6055897559119554\n",
      "Delhi Daredevils: -10.987373215969688\n",
      "Pune Warriors: -29.068479474789328\n"
     ]
    }
   ],
   "source": [
    "min_chance = 5\n",
    "min_kfac = 10\n",
    "\n",
    "final_ratings = elo_ratings(350, min_chance, min_kfac)[0]\n",
    "\n",
    "for t in sorted(final_ratings, key = final_ratings.get, reverse = True): print(t + \":\", final_ratings[t])"
   ]
  },
  {
   "cell_type": "code",
   "execution_count": 21,
   "id": "ee75a011",
   "metadata": {},
   "outputs": [
    {
     "name": "stdout",
     "output_type": "stream",
     "text": [
      "Chennai Super Kings Kolkata Knight Riders 0.6363636363636364 0.5517939864335375\n",
      "Chennai Super Kings Kings XI Punjab 0.6086956521739131 0.6184345339343408\n",
      "Chennai Super Kings Sunrisers Hyderabad 0.7142857142857143 0.5538348049302735\n",
      "Chennai Super Kings Rajasthan Royals 0.6086956521739131 0.5766327175250375\n",
      "Chennai Super Kings Mumbai Indians 0.4 0.46682946683228194\n",
      "Chennai Super Kings Royal Challengers Bangalore 0.64 0.6111164721415424\n",
      "Chennai Super Kings Delhi Daredevils 0.6666666666666666 0.6504546685027585\n",
      "Chennai Super Kings Deccan Chargers 0.6 0.6426980974265732\n",
      "Chennai Super Kings Pune Warriors 0.6666666666666666 0.6691144114510349\n",
      "Kolkata Knight Riders Kings XI Punjab 0.6666666666666666 0.5683168228013924\n",
      "Kolkata Knight Riders Sunrisers Hyderabad 0.631578947368421 0.5020638370421759\n",
      "Kolkata Knight Riders Rajasthan Royals 0.5454545454545454 0.5252394440068597\n",
      "Kolkata Knight Riders Mumbai Indians 0.2222222222222222 0.4156153830118979\n",
      "Kolkata Knight Riders Royal Challengers Bangalore 0.5384615384615384 0.560720307269041\n",
      "Kolkata Knight Riders Delhi Daredevils 0.6190476190476191 0.6018349369572752\n",
      "Kolkata Knight Riders Deccan Chargers 0.7777777777777778 0.5936734362373923\n",
      "Kings XI Punjab Sunrisers Hyderabad 0.3125 0.433709627852516\n",
      "Kings XI Punjab Rajasthan Royals 0.42857142857142855 0.4566234481610231\n",
      "Kings XI Punjab Mumbai Indians 0.46153846153846156 0.35074041981412124\n",
      "Kings XI Punjab Royal Challengers Bangalore 0.5384615384615384 0.4922753096549242\n",
      "Kings XI Punjab Delhi Daredevils 0.5909090909090909 0.5344775611534783\n",
      "Kings XI Punjab Deccan Chargers 0.7 0.5260227405876146\n",
      "Kings XI Punjab Pune Warriors 0.5 0.5550937667597476\n",
      "Sunrisers Hyderabad Delhi Capitals 0.5 0.4967774942931652\n",
      "Sunrisers Hyderabad Rajasthan Royals 0.5384615384615384 0.5231804368497285\n",
      "Sunrisers Hyderabad Mumbai Indians 0.5 0.41361172614858344\n",
      "Sunrisers Hyderabad Royal Challengers Bangalore 0.5882352941176471 0.5586858875419359\n",
      "Sunrisers Hyderabad Delhi Daredevils 0.6666666666666666 0.5998550463410746\n",
      "Delhi Capitals Mumbai Indians 0.16666666666666666 0.41674151963921136\n",
      "Rajasthan Royals Mumbai Indians 0.5 0.39130196832688807\n",
      "Rajasthan Royals Royal Challengers Bangalore 0.5454545454545454 0.5356997091616703\n",
      "Rajasthan Royals Delhi Daredevils 0.6111111111111112 0.5773911536263934\n",
      "Rajasthan Royals Deccan Chargers 0.7777777777777778 0.5690873556219282\n",
      "Mumbai Indians Royal Challengers Bangalore 0.6296296296296297 0.64219066410505\n",
      "Mumbai Indians Delhi Daredevils 0.5 0.6800313004980041\n",
      "Mumbai Indians Deccan Chargers 0.6 0.6726006973798446\n",
      "Mumbai Indians Rising Pune Supergiants 0.3333333333333333 0.6075698091754113\n",
      "Mumbai Indians Pune Warriors 0.8333333333333334 0.6978455940175466\n",
      "Royal Challengers Bangalore Delhi Daredevils 0.6666666666666666 0.5421573406960456\n",
      "Royal Challengers Bangalore Deccan Chargers 0.45454545454545453 0.5337203174218235\n",
      "Delhi Daredevils Deccan Chargers 0.6363636363636364 0.4915147274666861\n",
      "Delhi Daredevils Pune Warriors 0.5 0.5207740467061676\n",
      "0.08469300224143002\n"
     ]
    }
   ],
   "source": [
    "count = 0\n",
    "error = 0\n",
    "\n",
    "for team1 in range(14):\n",
    "    for team2 in range(team1+1, 14):\n",
    "        total_matches = team_stats[team1, team2] + team_stats[team2, team1]\n",
    "        if total_matches <= 5: continue\n",
    "        prob1 = (team_stats[team1, team2])/(total_matches)\n",
    "        prob2 = 1/(1+pow(min_chance, (final_ratings[teams[team2]]-final_ratings[teams[team1]])/350))\n",
    "        print(teams[team1], teams[team2], prob1, prob2)\n",
    "        error += abs(prob1 - prob2)\n",
    "        count += 1\n",
    "\n",
    "print(error/count)"
   ]
  },
  {
   "cell_type": "code",
   "execution_count": 15,
   "id": "89ec689c",
   "metadata": {},
   "outputs": [],
   "source": [
    "diff = 350\n",
    "chances = 5\n",
    "kfac = 10\n",
    "\n",
    "def temporal_plot(t):\n",
    "    years = []\n",
    "    team_rating = []\n",
    "    \n",
    "    ratings = {}\n",
    "    \n",
    "    for team in teams: ratings[team] = 50\n",
    "    \n",
    "    file = open(\"IPL Matches 2008-2020.csv\", 'r')\n",
    "\n",
    "    for line in file:\n",
    "        l = line.split(\",\")\n",
    "        if l[0] == 'id': continue\n",
    "\n",
    "        team1 = l[-11]\n",
    "        team2 = l[-10]\n",
    "        year = l[2][:4]\n",
    "        \n",
    "        if team1 == \"Rising Pune Supergiant\": team1 += \"s\"\n",
    "        if team2 == \"Rising Pune Supergiant\": team2 += \"s\"\n",
    "        if l[-7] == \"Rising Pune Supergiant\": l[-7] += \"s\"\n",
    "\n",
    "        prob = 1/(1+pow(chance, (ratings[team2]-ratings[team1])/diff))\n",
    "\n",
    "        if team1 == l[-7]: error = 1-prob\n",
    "        else: error = -prob\n",
    "\n",
    "        ratings[team1] += kfac*error\n",
    "        ratings[team2] -= kfac*error\n",
    "        \n",
    "        if team1 == t:\n",
    "            years += [year]\n",
    "            team_rating += [ratings[team1]]\n",
    "            \n",
    "        if team2 == t:\n",
    "            years += [year]\n",
    "            team_rating += [ratings[team2]]\n",
    "    \n",
    "    file.close()\n",
    "    \n",
    "    print(years[0], team_rating[0])\n",
    "    \n",
    "    for i in range(1, len(years)):\n",
    "        if years[i] != years[i-1]:\n",
    "            print(years[i-1], team_rating[i-1])\n",
    "            print(years[i], team_rating[i])\n",
    "            \n",
    "    print(years[len(years)-1], team_rating[len(years)-1])\n",
    "    \n",
    "    plt.figure(1)\n",
    "    plt.plot(years, team_rating)\n",
    "    plt.show()\n",
    "    \n",
    "    return"
   ]
  },
  {
   "cell_type": "code",
   "execution_count": 16,
   "id": "553d1922",
   "metadata": {},
   "outputs": [
    {
     "name": "stdout",
     "output_type": "stream",
     "text": [
      "2008 45.0\n",
      "2008 25.1180183298495\n",
      "2009 31.62666108900779\n",
      "2009 43.96278096040701\n",
      "2010 38.49734096550465\n",
      "2010 44.636457194921086\n",
      "2011 49.75818761916834\n",
      "2011 65.57234988526287\n",
      "2012 69.90593439430748\n",
      "2012 64.20462482339661\n",
      "2013 69.53383692111596\n",
      "2013 68.38466166686067\n",
      "2014 72.11084600415582\n",
      "2014 48.89481339088147\n",
      "2015 54.85787773676522\n",
      "2015 54.74713983760671\n",
      "2016 59.843667066791554\n",
      "2016 65.96839552260327\n",
      "2017 61.299216931260304\n",
      "2017 32.19357419580206\n",
      "2018 28.185571235692336\n",
      "2018 34.82009901320486\n",
      "2019 31.567503283688282\n",
      "2019 30.571671186390287\n",
      "2020 36.416765352840244\n",
      "2020 39.09546662431263\n"
     ]
    },
    {
     "data": {
      "image/png": "[encoded data removed]",
      "text/plain": [
       "<Figure size 432x288 with 1 Axes>"
      ]
     },
     "metadata": {
      "needs_background": "light"
     },
     "output_type": "display_data"
    }
   ],
   "source": [
    "temporal_plot(\"Royal Challengers Bangalore\")"
   ]
  },
  {
   "cell_type": "code",
   "execution_count": null,
   "id": "4dfc5271",
   "metadata": {},
   "outputs": [],
   "source": []
  }
 ],
 "metadata": {
  "kernelspec": {
   "display_name": "Python 3",
   "language": "python",
   "name": "python3"
  },
  "language_info": {
   "codemirror_mode": {
    "name": "ipython",
    "version": 3
   },
   "file_extension": ".py",
   "mimetype": "text/x-python",
   "name": "python",
   "nbconvert_exporter": "python",
   "pygments_lexer": "ipython3",
   "version": "3.8.10"
  }
 },
 "nbformat": 4,
 "nbformat_minor": 5
}

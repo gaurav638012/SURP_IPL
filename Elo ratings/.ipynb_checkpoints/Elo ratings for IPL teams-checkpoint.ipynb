{
 "cells": [
  {
   "cell_type": "code",
   "execution_count": 32,
   "id": "a9bb4376",
   "metadata": {},
   "outputs": [],
   "source": [
    "import pandas as pd\n",
    "import numpy as np"
   ]
  },
  {
   "cell_type": "code",
   "execution_count": 96,
   "id": "6d93dd8c-af1c-4678-b2e0-b92357138d31",
   "metadata": {},
   "outputs": [],
   "source": [
    "init = 1000\n",
    "diff = 400\n",
    "chances = 10\n",
    "kfac = 40"
   ]
  },
  {
   "cell_type": "code",
   "execution_count": 87,
   "id": "aa05470a",
   "metadata": {
    "tags": []
   },
   "outputs": [],
   "source": [
    "def ratings(init,diff,chances,kfac):\n",
    "    ratings = {}\n",
    "    file = open(\"IPL Matches 2008-2020.csv\", 'r')\n",
    "    for line in file:\n",
    "        l = line.split(\",\")\n",
    "        if l[0] == 'id': continue\n",
    "\n",
    "        team1 = l[-11]\n",
    "        team2 = l[-10]\n",
    "\n",
    "        if team1 not in ratings.keys(): ratings[team1] = init\n",
    "        if team2 not in ratings.keys(): ratings[team2] = init\n",
    "\n",
    "        prob = 1/(1+pow(chances, (ratings[team2]-ratings[team1])/diff))\n",
    "\n",
    "        if team1 == l[-7]: error = 1-prob\n",
    "        else: error = -prob\n",
    "\n",
    "        ratings[team1] += kfac*error  \n",
    "        ratings[team2] -= kfac*error\n",
    "    return ratings"
   ]
  },
  {
   "cell_type": "code",
   "execution_count": 88,
   "id": "12813cd9-c64c-4ef0-bbbe-a23ff3218e9c",
   "metadata": {},
   "outputs": [],
   "source": [
    "data=pd.read_csv('IPL Matches 2008-2020.csv')"
   ]
  },
  {
   "cell_type": "code",
   "execution_count": 82,
   "id": "23da6025-54cc-4aa2-9d3e-d1c39bc9e399",
   "metadata": {},
   "outputs": [
    {
     "data": {
      "text/plain": [
       "0"
      ]
     },
     "execution_count": 82,
     "metadata": {},
     "output_type": "execute_result"
    }
   ],
   "source": [
    "sum(data['team1']=='team1')"
   ]
  },
  {
   "cell_type": "code",
   "execution_count": 41,
   "id": "836c8b35-ebd2-499a-bb6a-ced0a2910fdd",
   "metadata": {},
   "outputs": [],
   "source": [
    "def evaluate(ratings,diff,chances,kfac):\n",
    "    error=0\n",
    "    file = open(\"IPL Matches 2008-2020.csv\", 'r')\n",
    "    counter=0\n",
    "    for line in file:\n",
    "        l = line.split(\",\")\n",
    "        if l[0] == 'id': continue\n",
    "        \n",
    "        counter+=1\n",
    "        team1 = l[-11]\n",
    "        team2 = l[-10]\n",
    "\n",
    "        prob = 1/(1+pow(chances, (ratings[team2]-ratings[team1])/diff))\n",
    "\n",
    "        if team1 == l[-7]: error+= 1-prob\n",
    "        else: error+= prob\n",
    "    return error/counter    "
   ]
  },
  {
   "cell_type": "code",
   "execution_count": 97,
   "id": "3a3c5635",
   "metadata": {},
   "outputs": [],
   "source": [
    "rating=ratings(init,diff,chances,kfac)"
   ]
  },
  {
   "cell_type": "code",
   "execution_count": 98,
   "id": "44e2079a",
   "metadata": {},
   "outputs": [
    {
     "name": "stdout",
     "output_type": "stream",
     "text": [
      "Mumbai Indians 1167.085292806736\n",
      "Rising Pune Supergiant 1073.5751855754727\n",
      "Delhi Capitals 1056.9397992391443\n",
      "Chennai Super Kings 1032.1987368452933\n",
      "team2 1020.0\n",
      "Kolkata Knight Riders 1019.1276109977141\n",
      "Rajasthan Royals 1014.1684769642902\n",
      "Sunrisers Hyderabad 1012.1820308758598\n",
      "Royal Challengers Bangalore 1004.1109539413217\n",
      "team1 980.0\n",
      "Delhi Daredevils 975.2022560836177\n",
      "Kings XI Punjab 974.4626991409671\n",
      "Kochi Tuskers Kerala 972.8431825780303\n",
      "Gujarat Lions 932.7720982141444\n",
      "Deccan Chargers 922.208843575602\n",
      "Pune Warriors 843.1228331618046\n"
     ]
    }
   ],
   "source": [
    "for w in sorted(rating, key=rating.get, reverse=True):\n",
    "    print(w, rating[w])"
   ]
  },
  {
   "cell_type": "code",
   "execution_count": 42,
   "id": "60a54351-e603-48fd-ba03-bad29bfb0f18",
   "metadata": {},
   "outputs": [
    {
     "data": {
      "text/plain": [
       "0.47762031830230883"
      ]
     },
     "execution_count": 42,
     "metadata": {},
     "output_type": "execute_result"
    }
   ],
   "source": [
    "evaluate(rating,diff,chances,kfac)"
   ]
  },
  {
   "cell_type": "code",
   "execution_count": 94,
   "id": "3385bb95-18ff-4526-aff1-187f4c409fd7",
   "metadata": {},
   "outputs": [],
   "source": [
    "lis_k=[40]\n",
    "lis_diff=list(range(100,1100,100))\n",
    "min_val=1\n",
    "min_k=None\n",
    "min_diff=None\n",
    "for kfac in lis_k:\n",
    "    for diff in lis_diff:\n",
    "        rating=ratings(init,diff,chances,kfac)\n",
    "        val=evaluate(rating,diff,chances,kfac)\n",
    "        if min_val>val:\n",
    "            min_k=kfac\n",
    "            min_val=val\n",
    "            min_diff=diff\n",
    "        "
   ]
  },
  {
   "cell_type": "code",
   "execution_count": 67,
   "id": "1a6d7bae-4f87-41b2-acd5-4c889d938d60",
   "metadata": {},
   "outputs": [
    {
     "data": {
      "text/plain": [
       "0.47752016579954254"
      ]
     },
     "execution_count": 67,
     "metadata": {},
     "output_type": "execute_result"
    }
   ],
   "source": [
    "kfac=90\n",
    "diff=1000\n",
    "evaluate(ratings(init,diff,chances,kfac),diff,chances,kfac)"
   ]
  },
  {
   "cell_type": "code",
   "execution_count": 95,
   "id": "d3f9f9a6-b6a3-4c30-a6ad-97a04b3478b9",
   "metadata": {},
   "outputs": [
    {
     "data": {
      "text/plain": [
       "(40, 400)"
      ]
     },
     "execution_count": 95,
     "metadata": {},
     "output_type": "execute_result"
    }
   ],
   "source": [
    "min_k,min_diff"
   ]
  },
  {
   "cell_type": "code",
   "execution_count": null,
   "id": "1c346b70-8899-4fa5-be64-00b497c9478d",
   "metadata": {},
   "outputs": [],
   "source": []
  }
 ],
 "metadata": {
  "kernelspec": {
   "display_name": "Python 3",
   "language": "python",
   "name": "python3"
  },
  "language_info": {
   "codemirror_mode": {
    "name": "ipython",
    "version": 3
   },
   "file_extension": ".py",
   "mimetype": "text/x-python",
   "name": "python",
   "nbconvert_exporter": "python",
   "pygments_lexer": "ipython3",
   "version": "3.9.5"
  }
 },
 "nbformat": 4,
 "nbformat_minor": 5
}
